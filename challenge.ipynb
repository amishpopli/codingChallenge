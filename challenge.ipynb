{
 "cells": [
  {
   "cell_type": "markdown",
   "metadata": {},
   "source": [
    "# Setup environment and load in jupyter"
   ]
  },
  {
   "cell_type": "markdown",
   "metadata": {},
   "source": [
    "If you already have a python environment with pyspark , please use that and do not run the next 3 steps. Please directly move on to creating a spark context\n",
    "\n",
    "\n",
    "After running the setup-env script the kernel \"spark-env\" should show up in jupyter list of \n",
    "kernels. Please change the kernel before moving forward\n",
    "\n"
   ]
  },
  {
   "cell_type": "code",
   "execution_count": null,
   "metadata": {},
   "outputs": [],
   "source": [
    "!pwd"
   ]
  },
  {
   "cell_type": "code",
   "execution_count": null,
   "metadata": {},
   "outputs": [],
   "source": [
    "!ls -la"
   ]
  },
  {
   "cell_type": "code",
   "execution_count": null,
   "metadata": {},
   "outputs": [],
   "source": [
    "%%bash\n",
    "sh setup-env.sh"
   ]
  },
  {
   "cell_type": "markdown",
   "metadata": {},
   "source": [
    "# Create spark session"
   ]
  },
  {
   "cell_type": "code",
   "execution_count": 1,
   "metadata": {},
   "outputs": [],
   "source": [
    "from pyspark.sql import SparkSession\n",
    "spark = SparkSession.builder.appName('test').getOrCreate()"
   ]
  },
  {
   "cell_type": "markdown",
   "metadata": {},
   "source": [
    "# Import packages"
   ]
  },
  {
   "cell_type": "code",
   "execution_count": 2,
   "metadata": {},
   "outputs": [],
   "source": [
    "from pyspark.sql.window import Window\n",
    "from pyspark.sql.types import *\n",
    "import pyspark.sql.functions as F\n",
    "import glob"
   ]
  },
  {
   "cell_type": "markdown",
   "metadata": {},
   "source": [
    "# Read data"
   ]
  },
  {
   "cell_type": "code",
   "execution_count": 3,
   "metadata": {},
   "outputs": [],
   "source": [
    "## create list of all gz files \n",
    "files_2019 = glob.glob(\"./data/2019/*.gz\")\n",
    "\n",
    "## changing column name of station number for equi joins \n",
    "weather = spark.read.option(\"header\",\"true\").csv(files_2019)\\\n",
    "                .withColumnRenamed(\"STN---\",\"STN_NO\")\n",
    "\n",
    "countryList= spark.read.option(\"header\",\"true\").csv(\"countrylist.csv\")\n",
    "\n",
    "stationList= spark.read.option(\"header\",\"true\").csv(\"stationlist.csv\")"
   ]
  },
  {
   "cell_type": "markdown",
   "metadata": {},
   "source": [
    "# Join station list with country list"
   ]
  },
  {
   "cell_type": "code",
   "execution_count": 4,
   "metadata": {},
   "outputs": [],
   "source": [
    "station_country = stationList.join(countryList,\"COUNTRY_ABBR\",\"left\").select(\"STN_NO\",\"COUNTRY_FULL\")"
   ]
  },
  {
   "cell_type": "markdown",
   "metadata": {},
   "source": [
    "# Join weather data with station number to get country names "
   ]
  },
  {
   "cell_type": "code",
   "execution_count": 5,
   "metadata": {},
   "outputs": [],
   "source": [
    "weather = weather.join(station_country,\"STN_NO\",\"left\")"
   ]
  },
  {
   "cell_type": "markdown",
   "metadata": {},
   "source": [
    "# Q1 Which country had the hottest average mean temperature over the year?"
   ]
  },
  {
   "cell_type": "code",
   "execution_count": 6,
   "metadata": {},
   "outputs": [
    {
     "name": "stdout",
     "output_type": "stream",
     "text": [
      "root\n",
      " |-- STN_NO: string (nullable = true)\n",
      " |-- WBAN: string (nullable = true)\n",
      " |-- YEARMODA: string (nullable = true)\n",
      " |-- TEMP: string (nullable = true)\n",
      " |-- DEWP: string (nullable = true)\n",
      " |-- SLP: string (nullable = true)\n",
      " |-- STP: string (nullable = true)\n",
      " |-- VISIB: string (nullable = true)\n",
      " |-- WDSP: string (nullable = true)\n",
      " |-- MXSPD: string (nullable = true)\n",
      " |-- GUST: string (nullable = true)\n",
      " |-- MAX: string (nullable = true)\n",
      " |-- MIN: string (nullable = true)\n",
      " |-- PRCP: string (nullable = true)\n",
      " |-- SNDP: string (nullable = true)\n",
      " |-- FRSHTT: string (nullable = true)\n",
      " |-- COUNTRY_FULL: string (nullable = true)\n",
      "\n"
     ]
    }
   ],
   "source": [
    "weather.printSchema()"
   ]
  },
  {
   "cell_type": "code",
   "execution_count": 7,
   "metadata": {},
   "outputs": [
    {
     "name": "stdout",
     "output_type": "stream",
     "text": [
      "+----+\n",
      "|year|\n",
      "+----+\n",
      "|2020|\n",
      "|2019|\n",
      "+----+\n",
      "\n"
     ]
    }
   ],
   "source": [
    "weather.withColumn(\"year\",F.substring(F.col(\"YEARMODA\"),1,4)).select(\"year\").distinct().show()"
   ]
  },
  {
   "cell_type": "code",
   "execution_count": 8,
   "metadata": {},
   "outputs": [],
   "source": [
    "### Filtering for the 2019\n",
    "### convert to float\n",
    "### remove nulls\n",
    "weather_q1 = weather.withColumn(\"year\",F.substring(F.col(\"YEARMODA\"),1,4))\\\n",
    "                    .filter(F.col(\"year\")==\"2019\")\\\n",
    "                    .select(\"COUNTRY_FULL\",\"YEARMODA\",\"Temp\")\\\n",
    "                    .withColumn(\"Temp\",F.col(\"Temp\").cast(FloatType()))\\\n",
    "                    .filter(F.col(\"Temp\")!= 9999.9)\\\n",
    "                    .distinct()"
   ]
  },
  {
   "cell_type": "code",
   "execution_count": 9,
   "metadata": {},
   "outputs": [
    {
     "name": "stdout",
     "output_type": "stream",
     "text": [
      "+------------+--------+----+\n",
      "|COUNTRY_FULL|YEARMODA|Temp|\n",
      "+------------+--------+----+\n",
      "|ARMENIA     |20191231|22.6|\n",
      "|ARMENIA     |20191231|34.1|\n",
      "|ARMENIA     |20191231|29.5|\n",
      "|ARMENIA     |20191231|15.2|\n",
      "|ARMENIA     |20191231|21.8|\n",
      "|ARMENIA     |20191231|35.8|\n",
      "|ARMENIA     |20191231|24.5|\n",
      "|ARMENIA     |20191231|36.5|\n",
      "|ARMENIA     |20191231|35.4|\n",
      "|ARMENIA     |20191231|18.6|\n",
      "+------------+--------+----+\n",
      "only showing top 10 rows\n",
      "\n"
     ]
    }
   ],
   "source": [
    "# viewing data for random country\n",
    "weather_q1.filter(F.col(\"COUNTRY_FULL\")==\"ARMENIA\").orderBy(F.desc(\"YEARMODA\")).show(10,False)"
   ]
  },
  {
   "cell_type": "markdown",
   "metadata": {},
   "source": [
    "There is an inconsistency , there are different mean temp for same day. Will epxlore this later\n",
    "\n",
    "We are dropping duplicates and just keeping one for now"
   ]
  },
  {
   "cell_type": "code",
   "execution_count": 10,
   "metadata": {},
   "outputs": [],
   "source": [
    "weather_q1 = weather_q1.dropDuplicates(subset=[\"COUNTRY_FULL\",\"YEARMODA\"])"
   ]
  },
  {
   "cell_type": "code",
   "execution_count": 11,
   "metadata": {},
   "outputs": [
    {
     "name": "stdout",
     "output_type": "stream",
     "text": [
      "+------------+--------+----+\n",
      "|COUNTRY_FULL|YEARMODA|Temp|\n",
      "+------------+--------+----+\n",
      "|ARMENIA     |20191231|18.6|\n",
      "|ARMENIA     |20191230|25.8|\n",
      "|ARMENIA     |20191229|24.0|\n",
      "|ARMENIA     |20191228|40.6|\n",
      "|ARMENIA     |20191227|43.1|\n",
      "|ARMENIA     |20191226|28.9|\n",
      "|ARMENIA     |20191225|40.4|\n",
      "|ARMENIA     |20191224|32.0|\n",
      "|ARMENIA     |20191223|35.3|\n",
      "|ARMENIA     |20191222|34.9|\n",
      "+------------+--------+----+\n",
      "only showing top 10 rows\n",
      "\n"
     ]
    }
   ],
   "source": [
    "# viewing data for random country\n",
    "weather_q1.filter(F.col(\"COUNTRY_FULL\")==\"ARMENIA\").orderBy(F.desc(\"YEARMODA\")).show(10,False)"
   ]
  },
  {
   "cell_type": "code",
   "execution_count": 12,
   "metadata": {},
   "outputs": [],
   "source": [
    "#create window function\n",
    "windowspec_q1 = Window.orderBy(F.desc(\"avg(Temp)\"))\n",
    "\n",
    "### calculating hottest temp\n",
    "answer_q1 = weather_q1.groupBy(\"COUNTRY_FULL\").avg(\"Temp\")\\\n",
    "                .withColumn(\"rn\", F.dense_rank().over(windowspec_q1))\\\n",
    "                .filter(F.col(\"rn\")==1)"
   ]
  },
  {
   "cell_type": "code",
   "execution_count": 13,
   "metadata": {},
   "outputs": [
    {
     "name": "stdout",
     "output_type": "stream",
     "text": [
      "+------------+-----------------+---+\n",
      "|COUNTRY_FULL|        avg(Temp)| rn|\n",
      "+------------+-----------------+---+\n",
      "|    DJIBOUTI|90.06114474836602|  1|\n",
      "+------------+-----------------+---+\n",
      "\n"
     ]
    }
   ],
   "source": [
    "answer_q1.show()"
   ]
  },
  {
   "cell_type": "code",
   "execution_count": null,
   "metadata": {},
   "outputs": [],
   "source": []
  },
  {
   "cell_type": "markdown",
   "metadata": {},
   "source": [
    "# Q2 Which country had the most consecutive days of tornadoes/funnel cloud formations?"
   ]
  },
  {
   "cell_type": "code",
   "execution_count": 14,
   "metadata": {},
   "outputs": [
    {
     "name": "stdout",
     "output_type": "stream",
     "text": [
      "root\n",
      " |-- STN_NO: string (nullable = true)\n",
      " |-- WBAN: string (nullable = true)\n",
      " |-- YEARMODA: string (nullable = true)\n",
      " |-- TEMP: string (nullable = true)\n",
      " |-- DEWP: string (nullable = true)\n",
      " |-- SLP: string (nullable = true)\n",
      " |-- STP: string (nullable = true)\n",
      " |-- VISIB: string (nullable = true)\n",
      " |-- WDSP: string (nullable = true)\n",
      " |-- MXSPD: string (nullable = true)\n",
      " |-- GUST: string (nullable = true)\n",
      " |-- MAX: string (nullable = true)\n",
      " |-- MIN: string (nullable = true)\n",
      " |-- PRCP: string (nullable = true)\n",
      " |-- SNDP: string (nullable = true)\n",
      " |-- FRSHTT: string (nullable = true)\n",
      " |-- COUNTRY_FULL: string (nullable = true)\n",
      "\n"
     ]
    }
   ],
   "source": [
    "weather.printSchema()"
   ]
  },
  {
   "cell_type": "code",
   "execution_count": 15,
   "metadata": {},
   "outputs": [
    {
     "name": "stdout",
     "output_type": "stream",
     "text": [
      "+------+\n",
      "|FRSHTT|\n",
      "+------+\n",
      "|011010|\n",
      "|010000|\n",
      "+------+\n",
      "only showing top 2 rows\n",
      "\n"
     ]
    }
   ],
   "source": [
    "weather.select(\"FRSHTT\").show(2,False)"
   ]
  },
  {
   "cell_type": "code",
   "execution_count": 16,
   "metadata": {},
   "outputs": [],
   "source": [
    "### no mention of year, therefore we do nopt filter for 2019\n",
    "### create new column for 6th digit (Tornado/Funnel cloud)\n",
    "weather_q2 = weather.withColumn(\"Tornado_Funnel\", F.substring(F.col(\"FRSHTT\"),6,1))\\\n",
    "                    .withColumn(\"YEARMODA\", F.from_unixtime(F.unix_timestamp('YEARMODA', 'yyyyMMdd')).cast(\"timestamp\"))\\\n",
    "                    .select(\"COUNTRY_FULL\",\"YEARMODA\",\"FRSHTT\",\"Tornado_Funnel\")"
   ]
  },
  {
   "cell_type": "code",
   "execution_count": 17,
   "metadata": {},
   "outputs": [
    {
     "name": "stdout",
     "output_type": "stream",
     "text": [
      "+------------+-------------------+------+--------------+\n",
      "|COUNTRY_FULL|YEARMODA           |FRSHTT|Tornado_Funnel|\n",
      "+------------+-------------------+------+--------------+\n",
      "|ARMENIA     |2019-12-31 00:00:00|000000|0             |\n",
      "|ARMENIA     |2019-12-31 00:00:00|100000|0             |\n",
      "|ARMENIA     |2019-12-30 00:00:00|000000|0             |\n",
      "|ARMENIA     |2019-12-30 00:00:00|100000|0             |\n",
      "|ARMENIA     |2019-12-29 00:00:00|100000|0             |\n",
      "|ARMENIA     |2019-12-29 00:00:00|001000|0             |\n",
      "|ARMENIA     |2019-12-29 00:00:00|010000|0             |\n",
      "|ARMENIA     |2019-12-29 00:00:00|000000|0             |\n",
      "|ARMENIA     |2019-12-28 00:00:00|000000|0             |\n",
      "|ARMENIA     |2019-12-28 00:00:00|100000|0             |\n",
      "+------------+-------------------+------+--------------+\n",
      "only showing top 10 rows\n",
      "\n"
     ]
    }
   ],
   "source": [
    "# viewing data for random country\n",
    "weather_q2.filter(F.col(\"COUNTRY_FULL\")==\"ARMENIA\").distinct().orderBy(F.desc(\"YEARMODA\")).show(10,False)"
   ]
  },
  {
   "cell_type": "markdown",
   "metadata": {},
   "source": [
    "There is an inconsistency, for example day 20191231 in armenia could be foggy and not foggy, please look at values 1 and 2 in above sample\n",
    "\n",
    "we are dropping duplicates for now and just keeping one"
   ]
  },
  {
   "cell_type": "code",
   "execution_count": 18,
   "metadata": {},
   "outputs": [],
   "source": [
    "weather_q2 = weather_q2.dropDuplicates(subset=[\"COUNTRY_FULL\",\"YEARMODA\"]).filter(F.col(\"Tornado_Funnel\")==1)"
   ]
  },
  {
   "cell_type": "code",
   "execution_count": 19,
   "metadata": {},
   "outputs": [
    {
     "name": "stdout",
     "output_type": "stream",
     "text": [
      "+--------------+-------------------+------+--------------+\n",
      "|COUNTRY_FULL  |YEARMODA           |FRSHTT|Tornado_Funnel|\n",
      "+--------------+-------------------+------+--------------+\n",
      "|ARUBA         |2019-09-23 00:00:00|010011|1             |\n",
      "|BAHAMAS THE   |2019-08-29 00:00:00|010011|1             |\n",
      "|BAHAMAS THE   |2019-07-04 00:00:00|010011|1             |\n",
      "|BAHAMAS THE   |2019-02-25 00:00:00|000001|1             |\n",
      "|BURKINA FASO  |2019-08-13 00:00:00|000001|1             |\n",
      "|CAMEROON      |2019-08-13 00:00:00|010011|1             |\n",
      "|CAYMAN ISLANDS|2019-12-21 00:00:00|000001|1             |\n",
      "|CAYMAN ISLANDS|2019-11-12 00:00:00|010011|1             |\n",
      "|CAYMAN ISLANDS|2019-11-08 00:00:00|010001|1             |\n",
      "|CAYMAN ISLANDS|2019-11-03 00:00:00|000001|1             |\n",
      "+--------------+-------------------+------+--------------+\n",
      "only showing top 10 rows\n",
      "\n"
     ]
    }
   ],
   "source": [
    "# viewing data for random country\n",
    "weather_q2.distinct().orderBy(F.col(\"COUNTRY_FULL\"),F.desc(\"YEARMODA\")).show(10,False)"
   ]
  },
  {
   "cell_type": "code",
   "execution_count": 20,
   "metadata": {},
   "outputs": [],
   "source": [
    "### create window function\n",
    "windowspec_q2 = Window.partitionBy(\"COUNTRY_FULL\").orderBy(F.col(\"YEARMODA\"))"
   ]
  },
  {
   "cell_type": "code",
   "execution_count": 21,
   "metadata": {},
   "outputs": [
    {
     "name": "stdout",
     "output_type": "stream",
     "text": [
      "root\n",
      " |-- COUNTRY_FULL: string (nullable = true)\n",
      " |-- YEARMODA: timestamp (nullable = true)\n",
      " |-- FRSHTT: string (nullable = true)\n",
      " |-- Tornado_Funnel: string (nullable = true)\n",
      "\n"
     ]
    }
   ],
   "source": [
    "weather_q2.printSchema()"
   ]
  },
  {
   "cell_type": "code",
   "execution_count": 22,
   "metadata": {},
   "outputs": [],
   "source": [
    "weather_q2=weather_q2.withColumn(\"rn\",F.row_number().over(windowspec_q2))\\\n",
    "                     .withColumn(\"groups\",F.expr(\"date_sub(YEARMODA,rn)\"))"
   ]
  },
  {
   "cell_type": "code",
   "execution_count": 23,
   "metadata": {},
   "outputs": [],
   "source": [
    "windowspec_q2_1 = Window.partitionBy(\"COUNTRY_FULL\",\"groups\")"
   ]
  },
  {
   "cell_type": "code",
   "execution_count": 24,
   "metadata": {},
   "outputs": [],
   "source": [
    "weather_q2_final = weather_q2.withColumn(\"counts\",F.count(\"COUNTRY_FULL\").over(windowspec_q2_1))"
   ]
  },
  {
   "cell_type": "code",
   "execution_count": 25,
   "metadata": {},
   "outputs": [],
   "source": [
    "windowspec_q2_2 = Window.orderBy(F.desc(\"counts\"))"
   ]
  },
  {
   "cell_type": "code",
   "execution_count": 26,
   "metadata": {},
   "outputs": [],
   "source": [
    "answer_q2 = weather_q2_final.withColumn(\"ranks\",F.dense_rank().over(windowspec_q2_2))\\\n",
    "            .filter(F.col(\"ranks\")==1)"
   ]
  },
  {
   "cell_type": "code",
   "execution_count": 27,
   "metadata": {},
   "outputs": [
    {
     "name": "stdout",
     "output_type": "stream",
     "text": [
      "+--------------+-------------------+------+--------------+---+----------+------+-----+\n",
      "|  COUNTRY_FULL|           YEARMODA|FRSHTT|Tornado_Funnel| rn|    groups|counts|ranks|\n",
      "+--------------+-------------------+------+--------------+---+----------+------+-----+\n",
      "|CAYMAN ISLANDS|2019-10-31 00:00:00|010001|             1| 19|2019-10-12|     2|    1|\n",
      "|CAYMAN ISLANDS|2019-11-01 00:00:00|000001|             1| 20|2019-10-12|     2|    1|\n",
      "+--------------+-------------------+------+--------------+---+----------+------+-----+\n",
      "\n"
     ]
    }
   ],
   "source": [
    "answer_q2.show()"
   ]
  },
  {
   "cell_type": "code",
   "execution_count": null,
   "metadata": {},
   "outputs": [],
   "source": []
  },
  {
   "cell_type": "markdown",
   "metadata": {},
   "source": [
    "# Q3 Which country had the second highest average mean wind speed over the year?"
   ]
  },
  {
   "cell_type": "code",
   "execution_count": 28,
   "metadata": {},
   "outputs": [],
   "source": [
    "### Filtering for the 2019\n",
    "### convert to float\n",
    "### remove nulls\n",
    "weather_q3 = weather.withColumn(\"year\",F.substring(F.col(\"YEARMODA\"),1,4))\\\n",
    "                    .filter(F.col(\"year\")==\"2019\")\\\n",
    "                    .select(\"COUNTRY_FULL\",\"YEARMODA\",\"WDSP\")\\\n",
    "                    .withColumn(\"WDSP\",F.col(\"WDSP\").cast(FloatType()))\\\n",
    "                    .filter(F.col(\"WDSP\")!= \"999.9\")\\\n",
    "                    .distinct()"
   ]
  },
  {
   "cell_type": "code",
   "execution_count": 29,
   "metadata": {},
   "outputs": [
    {
     "name": "stdout",
     "output_type": "stream",
     "text": [
      "+------------+--------+----+\n",
      "|COUNTRY_FULL|YEARMODA|WDSP|\n",
      "+------------+--------+----+\n",
      "|ARMENIA     |20191231|3.4 |\n",
      "|ARMENIA     |20191231|4.4 |\n",
      "|ARMENIA     |20191231|1.9 |\n",
      "|ARMENIA     |20191231|2.3 |\n",
      "|ARMENIA     |20191231|2.9 |\n",
      "|ARMENIA     |20191231|1.3 |\n",
      "|ARMENIA     |20191231|2.4 |\n",
      "|ARMENIA     |20191230|3.9 |\n",
      "|ARMENIA     |20191230|1.9 |\n",
      "|ARMENIA     |20191230|2.7 |\n",
      "+------------+--------+----+\n",
      "only showing top 10 rows\n",
      "\n"
     ]
    }
   ],
   "source": [
    "# viewing data for random country\n",
    "weather_q3.filter(F.col(\"COUNTRY_FULL\")==\"ARMENIA\").orderBy(F.desc(\"YEARMODA\")).show(10,False)"
   ]
  },
  {
   "cell_type": "markdown",
   "metadata": {},
   "source": [
    "There is an inconsistency , there are different mean wind speed for same day. Will epxlore this later\n",
    "\n",
    "We are dropping duplicates and just keeping one for now"
   ]
  },
  {
   "cell_type": "code",
   "execution_count": 30,
   "metadata": {},
   "outputs": [],
   "source": [
    "weather_q3 = weather_q3.dropDuplicates(subset=[\"COUNTRY_FULL\",\"YEARMODA\"])"
   ]
  },
  {
   "cell_type": "code",
   "execution_count": 31,
   "metadata": {},
   "outputs": [
    {
     "name": "stdout",
     "output_type": "stream",
     "text": [
      "+------------+--------+----+\n",
      "|COUNTRY_FULL|YEARMODA|WDSP|\n",
      "+------------+--------+----+\n",
      "|ARMENIA     |20191231|1.9 |\n",
      "|ARMENIA     |20191230|2.7 |\n",
      "|ARMENIA     |20191229|2.4 |\n",
      "|ARMENIA     |20191228|2.9 |\n",
      "|ARMENIA     |20191227|3.4 |\n",
      "|ARMENIA     |20191226|3.2 |\n",
      "|ARMENIA     |20191225|1.9 |\n",
      "|ARMENIA     |20191224|5.8 |\n",
      "|ARMENIA     |20191223|2.9 |\n",
      "|ARMENIA     |20191222|2.2 |\n",
      "+------------+--------+----+\n",
      "only showing top 10 rows\n",
      "\n"
     ]
    }
   ],
   "source": [
    "# viewing data for random country\n",
    "weather_q3.filter(F.col(\"COUNTRY_FULL\")==\"ARMENIA\").orderBy(F.desc(\"YEARMODA\")).show(10,False)"
   ]
  },
  {
   "cell_type": "code",
   "execution_count": 32,
   "metadata": {},
   "outputs": [],
   "source": [
    "#create window function\n",
    "windowspec_q3 = Window.orderBy(F.desc(\"avg(WDSP)\"))\n",
    "\n",
    "### calculating second highest average wind speed\n",
    "answer_q3 = weather_q3.groupBy(\"COUNTRY_FULL\").avg(\"WDSP\")\\\n",
    "                .withColumn(\"rn\", F.dense_rank().over(windowspec_q3))\\\n",
    "                .filter(F.col(\"rn\")==2)"
   ]
  },
  {
   "cell_type": "code",
   "execution_count": 33,
   "metadata": {},
   "outputs": [
    {
     "name": "stdout",
     "output_type": "stream",
     "text": [
      "+------------+------------------+---+\n",
      "|COUNTRY_FULL|         avg(WDSP)| rn|\n",
      "+------------+------------------+---+\n",
      "|       ARUBA|15.981917790190815|  2|\n",
      "+------------+------------------+---+\n",
      "\n"
     ]
    }
   ],
   "source": [
    "answer_q3.show()"
   ]
  },
  {
   "cell_type": "code",
   "execution_count": null,
   "metadata": {},
   "outputs": [],
   "source": []
  },
  {
   "cell_type": "code",
   "execution_count": 34,
   "metadata": {},
   "outputs": [],
   "source": [
    "spark.stop()"
   ]
  },
  {
   "cell_type": "code",
   "execution_count": null,
   "metadata": {},
   "outputs": [],
   "source": []
  }
 ],
 "metadata": {
  "kernelspec": {
   "display_name": "spark-env",
   "language": "python",
   "name": "spark-env"
  },
  "language_info": {
   "codemirror_mode": {
    "name": "ipython",
    "version": 3
   },
   "file_extension": ".py",
   "mimetype": "text/x-python",
   "name": "python",
   "nbconvert_exporter": "python",
   "pygments_lexer": "ipython3",
   "version": "3.8.2"
  }
 },
 "nbformat": 4,
 "nbformat_minor": 4
}
